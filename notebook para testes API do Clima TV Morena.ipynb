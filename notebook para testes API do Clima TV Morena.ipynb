{
 "cells": [
  {
   "cell_type": "code",
   "execution_count": 1,
   "metadata": {},
   "outputs": [],
   "source": [
    "import requests\n",
    "import pandas as pd\n",
    "import json"
   ]
  },
  {
   "cell_type": "code",
   "execution_count": 2,
   "metadata": {},
   "outputs": [],
   "source": [
    "API_KEY = '3bc9b1c2c07e4f4dad648c37e3039f3a'\n",
    "city = 'Campo Grande'\n",
    "url = f'http://api.openweathermap.org/data/2.5/weather?q={city}&APPID={API_KEY}'"
   ]
  },
  {
   "cell_type": "code",
   "execution_count": 3,
   "metadata": {},
   "outputs": [],
   "source": [
    "response = requests.get(url).json()"
   ]
  },
  {
   "cell_type": "code",
   "execution_count": 4,
   "metadata": {},
   "outputs": [],
   "source": [
    "current_temperature = response.get('main', {}).get('temp')\n",
    "current_temperature_celsius = round(current_temperature - 273.15, 2)\n",
    "\n",
    "min_temperature = response.get('main', {}).get('temp_min')\n",
    "min_temperature_celsius = round(min_temperature - 273.15, 2)\n",
    "\n",
    "max_temperature = response.get('main', {}).get('temp_max')\n",
    "max_temperature_celsius = round(max_temperature - 273.15, 2)\n",
    "\n",
    "humidity = response.get('main', {}).get('humidity')\n",
    "\n",
    "weather = response.get('weather', {})"
   ]
  },
  {
   "cell_type": "code",
   "execution_count": 5,
   "metadata": {},
   "outputs": [
    {
     "name": "stdout",
     "output_type": "stream",
     "text": [
      "{\"cidade\": \"Campo Grande\", \"temperatura\": 30.0, \"minima\": 30.0, \"maxima\": 30.0, \"umidade do ar\": 42, \"clima\": [{\"id\": 801, \"main\": \"Clouds\", \"description\": \"few clouds\", \"icon\": \"02d\"}]}\n"
     ]
    }
   ],
   "source": [
    "dados = {\n",
    "    'cidade': city.title(),\n",
    "    'temperatura': current_temperature_celsius,\n",
    "    'minima': min_temperature_celsius,\n",
    "    'maxima': max_temperature_celsius,\n",
    "    'umidade do ar': humidity,\n",
    "    'clima': weather\n",
    "}\n",
    "\n",
    "dados_json = json.dumps(dados)\n",
    "print(dados_json)"
   ]
  },
  {
   "cell_type": "code",
   "execution_count": 6,
   "metadata": {},
   "outputs": [],
   "source": [
    "df = pd.DataFrame(weather)"
   ]
  },
  {
   "cell_type": "code",
   "execution_count": 7,
   "metadata": {},
   "outputs": [],
   "source": [
    "new_dict = pd.DataFrame.to_dict(df)"
   ]
  },
  {
   "cell_type": "code",
   "execution_count": 8,
   "metadata": {},
   "outputs": [
    {
     "name": "stdout",
     "output_type": "stream",
     "text": [
      "{'id': {0: 801}, 'main': {0: 'Clouds'}, 'description': {0: 'few clouds'}, 'icon': {0: '02d'}}\n"
     ]
    }
   ],
   "source": [
    "print(new_dict)"
   ]
  },
  {
   "cell_type": "code",
   "execution_count": 9,
   "metadata": {},
   "outputs": [],
   "source": [
    "clima = json.dumps(new_dict['main'])\n",
    "clima = clima[6:len(clima)-1]"
   ]
  },
  {
   "cell_type": "code",
   "execution_count": 10,
   "metadata": {},
   "outputs": [
    {
     "name": "stdout",
     "output_type": "stream",
     "text": [
      "<class 'str'>\n"
     ]
    }
   ],
   "source": [
    "print(type(clima))"
   ]
  },
  {
   "cell_type": "code",
   "execution_count": 11,
   "metadata": {},
   "outputs": [],
   "source": [
    "descricao = json.dumps(new_dict['description'])\n",
    "descricao = descricao[6:len(descricao)-1]"
   ]
  },
  {
   "cell_type": "code",
   "execution_count": 12,
   "metadata": {},
   "outputs": [
    {
     "name": "stdout",
     "output_type": "stream",
     "text": [
      "\"few clouds\"\n"
     ]
    }
   ],
   "source": [
    "print(descricao)"
   ]
  },
  {
   "cell_type": "code",
   "execution_count": 13,
   "metadata": {},
   "outputs": [
    {
     "name": "stdout",
     "output_type": "stream",
     "text": [
      "{\"cidade\": \"Campo Grande\", \"temperatura\": 30.0, \"minima\": 30.0, \"maxima\": 30.0, \"umidade do ar\": 42, \"clima\": \"\\\"Clouds\\\"\", \"descricao\": \"\\\"few clouds\\\"\"}\n"
     ]
    }
   ],
   "source": [
    "dados = {\n",
    "    'cidade': city.title(),\n",
    "    'temperatura': current_temperature_celsius,\n",
    "    'minima': min_temperature_celsius,\n",
    "    'maxima': max_temperature_celsius,\n",
    "    'umidade do ar': humidity,\n",
    "    'clima': clima,\n",
    "    'descricao': descricao\n",
    "    \n",
    "}\n",
    "\n",
    "dados_json = json.dumps(dados)\n",
    "print(dados_json)"
   ]
  },
  {
   "cell_type": "code",
   "execution_count": 14,
   "metadata": {},
   "outputs": [],
   "source": [
    "import random\n",
    "\n",
    "names = ['Dourados', 'Três Lagoas', 'Corumbá', 'Ponta Porã', 'Sidrolândia', 'Naviraí', 'Nova Andradina',\n",
    "             'Aquidauana', 'Maracaju', 'Paranaíba', 'Amambai', 'Rio Brilhante', 'Coxim', 'Caarapó', 'Miranda',\n",
    "             'São Gabriel do Oeste', 'Jardim', 'Aparecida do Taboado', 'Chapadão do Sul', 'Anastácio', 'Itaporã',\n",
    "             'Ribas do Rio Pardo', 'Bela Vista', 'Ladário', 'Bataguassu', 'Ivinhema', 'Nova Alvorada do Sul', 'Terenos',\n",
    "             'Bonito', 'Cassilândia', 'Itaquiraí', 'Costa Rica', 'Rio Verde de Mato Grosso', 'Sonora', 'Fátima do Sul',\n",
    "             'Mundo Novo', 'Porto Murtinho', 'Iguatemi', 'Água Clara', 'Coronel Sapucaia', 'Paranhos', 'Nioaque',\n",
    "             'Camapuã', 'Deodápolis', 'Eldorado', 'Aral Moreira', 'Brasilândia', 'Tacuru', 'Dois Irmãos do Buriti',\n",
    "             'Batayporã', 'Angélica', 'Sete Quedas', 'Glória de Dourados', 'Guia Lopes da Laguna', 'Japorã',\n",
    "             'Anaurilândia', 'Antônio João', 'Santa Rita do Pardo', 'Bodoquena', 'Pedro Gomes', 'Inocência',\n",
    "             'Laguna Carapã', 'Bandeirantes', 'Jaraguari', 'Juti', 'Selvíria', 'Caracol', 'Vicentina', 'Corguinho',\n",
    "             'Douradina', 'Paraíso das Águas', 'Alcinópolis', 'Rochedo', 'Rio Negro', 'Jateí', 'Novo Horizonte do Sul',\n",
    "             'Taquarussu', 'Figueirão']\n",
    "\n",
    "cidades = random.sample(names, 5)"
   ]
  },
  {
   "cell_type": "code",
   "execution_count": 15,
   "metadata": {},
   "outputs": [],
   "source": [
    "x = 0\n",
    "output_list = []\n",
    "while x < 5:\n",
    "    city = cidades[x]\n",
    "    url2 = f'http://api.openweathermap.org/data/2.5/weather?q={city}&APPID={API_KEY}'\n",
    "    response = requests.get(url2).json()\n",
    "    \n",
    "    if response.get('cod') != 200:\n",
    "        with open('cidades_com_erro.txt', 'a') as f:\n",
    "            f.write('{}, '.format(cidades[x]))   \n",
    "    \n",
    "    else:\n",
    "        with open('cidades_corretas.txt', 'a') as f:\n",
    "            f.write('{}, '.format(cidades[x])) \n",
    "\n",
    "    x = x+1"
   ]
  },
  {
   "cell_type": "code",
   "execution_count": 16,
   "metadata": {},
   "outputs": [
    {
     "name": "stdout",
     "output_type": "stream",
     "text": [
      "['Angélica', 'Iguatemi', 'Ribas do Rio Pardo', 'Juti', 'Dourados']\n"
     ]
    }
   ],
   "source": [
    "print(cidades)"
   ]
  },
  {
   "cell_type": "code",
   "execution_count": null,
   "metadata": {},
   "outputs": [],
   "source": [
    "read_file = open('cidades_com_erro.txt')\n",
    "read_file_2 = open('cidades_corretas.txt')"
   ]
  },
  {
   "cell_type": "code",
   "execution_count": null,
   "metadata": {},
   "outputs": [],
   "source": [
    "data1 = pd.read_csv('cidades_com_erro.txt', sep=\",\", header=None)\n",
    "data2 = pd.read_csv('cidades_corretas.txt', sep=\",\", header=None)"
   ]
  },
  {
   "cell_type": "code",
   "execution_count": null,
   "metadata": {},
   "outputs": [],
   "source": [
    "data1 = data1.T\n",
    "data2 = data2.T"
   ]
  },
  {
   "cell_type": "code",
   "execution_count": null,
   "metadata": {},
   "outputs": [],
   "source": [
    "data1.columns = ['cidades']\n",
    "data2.columns = ['cidades']"
   ]
  },
  {
   "cell_type": "code",
   "execution_count": null,
   "metadata": {},
   "outputs": [],
   "source": [
    "data1.head()"
   ]
  },
  {
   "cell_type": "code",
   "execution_count": null,
   "metadata": {},
   "outputs": [],
   "source": [
    "data2.head()"
   ]
  },
  {
   "cell_type": "code",
   "execution_count": null,
   "metadata": {},
   "outputs": [],
   "source": [
    "data1['cidades'].unique()"
   ]
  },
  {
   "cell_type": "code",
   "execution_count": null,
   "metadata": {},
   "outputs": [],
   "source": [
    "data1['cidades'].nunique()"
   ]
  },
  {
   "cell_type": "code",
   "execution_count": null,
   "metadata": {},
   "outputs": [],
   "source": [
    "data2['cidades'].nunique()"
   ]
  },
  {
   "cell_type": "code",
   "execution_count": null,
   "metadata": {},
   "outputs": [],
   "source": [
    "count_ = data1['cidades'].nunique() + data2['cidades'].nunique()"
   ]
  },
  {
   "cell_type": "code",
   "execution_count": null,
   "metadata": {},
   "outputs": [],
   "source": [
    "print(count_)"
   ]
  },
  {
   "cell_type": "code",
   "execution_count": null,
   "metadata": {},
   "outputs": [],
   "source": [
    "import random\n",
    "\n",
    "count = 0\n",
    "\n",
    "names = ['Dourados', 'Três Lagoas', 'Corumbá', 'Ponta Porã', 'Sidrolândia', 'Naviraí', 'Nova Andradina',\n",
    "             'Aquidauana', 'Maracaju', 'Paranaíba', 'Amambai', 'Rio Brilhante', 'Coxim', 'Caarapó', 'Miranda',\n",
    "             'São Gabriel do Oeste', 'Jardim', 'Aparecida do Taboado', 'Chapadão do Sul', 'Anastácio', 'Itaporã',\n",
    "             'Ribas do Rio Pardo', 'Bela Vista', 'Ladário', 'Bataguassu', 'Ivinhema', 'Nova Alvorada do Sul', 'Terenos',\n",
    "             'Bonito', 'Cassilândia', 'Itaquiraí', 'Costa Rica', 'Rio Verde de Mato Grosso', 'Sonora', 'Fátima do Sul',\n",
    "             'Mundo Novo', 'Porto Murtinho', 'Iguatemi', 'Água Clara', 'Coronel Sapucaia', 'Paranhos', 'Nioaque',\n",
    "             'Camapuã', 'Deodápolis', 'Eldorado', 'Aral Moreira', 'Brasilândia', 'Tacuru', 'Dois Irmãos do Buriti',\n",
    "             'Batayporã', 'Angélica', 'Sete Quedas', 'Glória de Dourados', 'Guia Lopes da Laguna', 'Japorã',\n",
    "             'Anaurilândia', 'Antônio João', 'Santa Rita do Pardo', 'Bodoquena', 'Pedro Gomes', 'Inocência',\n",
    "             'Laguna Carapã', 'Bandeirantes', 'Jaraguari', 'Juti', 'Selvíria', 'Caracol', 'Vicentina', 'Corguinho',\n",
    "             'Douradina', 'Paraíso das Águas', 'Alcinópolis', 'Rochedo', 'Rio Negro', 'Jateí', 'Novo Horizonte do Sul',\n",
    "             'Taquarussu', 'Figueirão']\n",
    "\n",
    "\n",
    "while count < 79:\n",
    "    cidades = random.sample(names, 5)\n",
    "    x = 0\n",
    "    output_list = []\n",
    "    while x < 5:\n",
    "        city = cidades[x]\n",
    "        url2 = f'http://api.openweathermap.org/data/2.5/weather?q={city}&APPID={API_KEY}'\n",
    "        response = requests.get(url2).json()\n",
    "    \n",
    "        if response.get('cod') != 200:\n",
    "            with open('cidades_com_erros.txt', 'a') as f:\n",
    "                f.write('{}, '.format(cidades[x]))   \n",
    "    \n",
    "        else:\n",
    "            with open('cidades_sem_erros.txt', 'a') as f:\n",
    "                f.write('{}, '.format(cidades[x])) \n",
    "        x = x+1\n",
    "    read_file = open('cidades_com_erros.txt')\n",
    "    read_file_2 = open('cidades_sem_erros.txt')\n",
    "    data1 = pd.read_csv('cidades_com_erros.txt', sep=\",\", header=None)\n",
    "    data2 = pd.read_csv('cidades_sem_erros.txt', sep=\",\", header=None)\n",
    "    data1 = data1.T\n",
    "    data2 = data2.T\n",
    "    data1.columns = ['cidades']\n",
    "    data2.columns = ['cidades']\n",
    "    count = data1['cidades'].nunique() + data2['cidades'].nunique()"
   ]
  },
  {
   "cell_type": "code",
   "execution_count": null,
   "metadata": {},
   "outputs": [],
   "source": [
    "print(count)"
   ]
  },
  {
   "cell_type": "code",
   "execution_count": null,
   "metadata": {},
   "outputs": [],
   "source": [
    "data1['cidades'].unique()"
   ]
  },
  {
   "cell_type": "code",
   "execution_count": null,
   "metadata": {},
   "outputs": [],
   "source": [
    "data2['cidades'].unique()"
   ]
  },
  {
   "cell_type": "code",
   "execution_count": null,
   "metadata": {},
   "outputs": [],
   "source": [
    "parsed_json = json.load('municipios.json')\n",
    "cidade = parsed_json[cidades[x]]\n",
    "lat = cidade['latitude']\n",
    "lon = cidade['longitude']"
   ]
  },
  {
   "cell_type": "code",
   "execution_count": 17,
   "metadata": {},
   "outputs": [],
   "source": [
    "municipios = pd.read_csv(\"municipios_rmc.csv\")"
   ]
  },
  {
   "cell_type": "code",
   "execution_count": 18,
   "metadata": {},
   "outputs": [
    {
     "data": {
      "text/html": [
       "<div>\n",
       "<style scoped>\n",
       "    .dataframe tbody tr th:only-of-type {\n",
       "        vertical-align: middle;\n",
       "    }\n",
       "\n",
       "    .dataframe tbody tr th {\n",
       "        vertical-align: top;\n",
       "    }\n",
       "\n",
       "    .dataframe thead th {\n",
       "        text-align: right;\n",
       "    }\n",
       "</style>\n",
       "<table border=\"1\" class=\"dataframe\">\n",
       "  <thead>\n",
       "    <tr style=\"text-align: right;\">\n",
       "      <th></th>\n",
       "      <th>codigo_ibge</th>\n",
       "      <th>nome</th>\n",
       "      <th>latitude</th>\n",
       "      <th>longitude</th>\n",
       "      <th>capital</th>\n",
       "      <th>codigo_uf</th>\n",
       "    </tr>\n",
       "  </thead>\n",
       "  <tbody>\n",
       "    <tr>\n",
       "      <th>0</th>\n",
       "      <td>5100102</td>\n",
       "      <td>Acorizal</td>\n",
       "      <td>-15.19400</td>\n",
       "      <td>-56.3632</td>\n",
       "      <td>False</td>\n",
       "      <td>51</td>\n",
       "    </tr>\n",
       "    <tr>\n",
       "      <th>1</th>\n",
       "      <td>5100201</td>\n",
       "      <td>Água Boa</td>\n",
       "      <td>-14.05100</td>\n",
       "      <td>-52.1601</td>\n",
       "      <td>False</td>\n",
       "      <td>51</td>\n",
       "    </tr>\n",
       "    <tr>\n",
       "      <th>2</th>\n",
       "      <td>5000203</td>\n",
       "      <td>Água Clara</td>\n",
       "      <td>-20.44520</td>\n",
       "      <td>-52.8790</td>\n",
       "      <td>False</td>\n",
       "      <td>50</td>\n",
       "    </tr>\n",
       "    <tr>\n",
       "      <th>3</th>\n",
       "      <td>5000252</td>\n",
       "      <td>Alcinópolis</td>\n",
       "      <td>-18.32550</td>\n",
       "      <td>-53.7042</td>\n",
       "      <td>False</td>\n",
       "      <td>50</td>\n",
       "    </tr>\n",
       "    <tr>\n",
       "      <th>4</th>\n",
       "      <td>5100250</td>\n",
       "      <td>Alta Floresta</td>\n",
       "      <td>-9.86674</td>\n",
       "      <td>-56.0867</td>\n",
       "      <td>False</td>\n",
       "      <td>51</td>\n",
       "    </tr>\n",
       "  </tbody>\n",
       "</table>\n",
       "</div>"
      ],
      "text/plain": [
       "   codigo_ibge           nome  latitude  longitude  capital  codigo_uf\n",
       "0      5100102       Acorizal -15.19400   -56.3632    False         51\n",
       "1      5100201       Água Boa -14.05100   -52.1601    False         51\n",
       "2      5000203     Água Clara -20.44520   -52.8790    False         50\n",
       "3      5000252    Alcinópolis -18.32550   -53.7042    False         50\n",
       "4      5100250  Alta Floresta  -9.86674   -56.0867    False         51"
      ]
     },
     "execution_count": 18,
     "metadata": {},
     "output_type": "execute_result"
    }
   ],
   "source": [
    "municipios.head()"
   ]
  },
  {
   "cell_type": "code",
   "execution_count": 43,
   "metadata": {},
   "outputs": [],
   "source": [
    "cidades = ['Deodápolis']\n",
    "lat = municipios['latitude'].loc[municipios['nome'].isin(cidades)]\n",
    "y = lat.values"
   ]
  },
  {
   "cell_type": "code",
   "execution_count": 26,
   "metadata": {},
   "outputs": [],
   "source": [
    "lon = municipios['longitude'].loc[municipios['nome'].isin(cidades)]\n",
    "x = lon.values"
   ]
  },
  {
   "cell_type": "code",
   "execution_count": 44,
   "metadata": {},
   "outputs": [
    {
     "name": "stdout",
     "output_type": "stream",
     "text": [
      "[-54.1682]\n"
     ]
    }
   ],
   "source": [
    "print(x)"
   ]
  },
  {
   "cell_type": "code",
   "execution_count": 45,
   "metadata": {},
   "outputs": [
    {
     "name": "stdout",
     "output_type": "stream",
     "text": [
      "[-22.2763]\n"
     ]
    }
   ],
   "source": [
    "print(y)"
   ]
  },
  {
   "cell_type": "code",
   "execution_count": 65,
   "metadata": {},
   "outputs": [],
   "source": [
    "lat = float(y)\n",
    "lon = float(x)"
   ]
  },
  {
   "cell_type": "code",
   "execution_count": 66,
   "metadata": {},
   "outputs": [],
   "source": [
    "url3 = f'http://api.openweathermap.org/data/2.5/weather?lat={lat}&lon={lon}&lang=pt_br&APPID={API_KEY}'"
   ]
  },
  {
   "cell_type": "code",
   "execution_count": 67,
   "metadata": {},
   "outputs": [
    {
     "name": "stdout",
     "output_type": "stream",
     "text": [
      "http://api.openweathermap.org/data/2.5/weather?lat=-22.2763&lon=-54.1682&lang=pt_br&APPID=3bc9b1c2c07e4f4dad648c37e3039f3a\n"
     ]
    }
   ],
   "source": [
    "print(url3)"
   ]
  },
  {
   "cell_type": "code",
   "execution_count": 68,
   "metadata": {},
   "outputs": [],
   "source": [
    "response_2 = requests.get(url3).json()"
   ]
  },
  {
   "cell_type": "code",
   "execution_count": 69,
   "metadata": {},
   "outputs": [
    {
     "name": "stdout",
     "output_type": "stream",
     "text": [
      "OK\n"
     ]
    }
   ],
   "source": [
    "if response_2.get('cod') == 200:\n",
    "    print('OK')\n",
    "else:\n",
    "    print('Quase lá')"
   ]
  }
 ],
 "metadata": {
  "kernelspec": {
   "display_name": "Python 3",
   "language": "python",
   "name": "python3"
  },
  "language_info": {
   "codemirror_mode": {
    "name": "ipython",
    "version": 3
   },
   "file_extension": ".py",
   "mimetype": "text/x-python",
   "name": "python",
   "nbconvert_exporter": "python",
   "pygments_lexer": "ipython3",
   "version": "3.7.6"
  }
 },
 "nbformat": 4,
 "nbformat_minor": 4
}
